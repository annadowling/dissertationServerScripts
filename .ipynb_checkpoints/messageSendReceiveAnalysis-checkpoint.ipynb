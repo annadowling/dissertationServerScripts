{
 "cells": [
  {
   "cell_type": "code",
   "execution_count": 31,
   "metadata": {},
   "outputs": [
    {
     "name": "stdout",
     "output_type": "stream",
     "text": [
      "0 days 00:00:00.023451\n"
     ]
    }
   ],
   "source": [
    "import numpy as np\n",
    "import pandas as pd\n",
    "\n",
    "requestType = \"JEROMQ\"\n",
    "#requestType = \"SPRING AMQP\"\n",
    "#requestType = \"RABBITMQ JAVA CLIENT\"\n",
    "#requestType = \"JZMQ\"\n",
    "messageVolume = 100\n",
    "messageSize = 1000\n",
    "garbageCollector = \"EPSILON\"\n",
    "isMultiThreaded = 0\n",
    "\n",
    "profiledData = pd.read_csv('profiling_test_results.csv', sep='\\t')\n",
    "profiledData\n",
    "\n",
    "filteredData = profiledData.query('REQUESTTYPE == \"JEROMQ\" and GARBAGECOLLECTOR == \"EPSILON\" and ISMULTITHREADED == 0 and MESSAGEVOLUME == 1000 and MESSAGESIZE == 10000')                                           \n",
    "filteredData\n",
    "\n",
    "sendTime = pd.to_datetime(filteredData[\"SENDTIME\"])\n",
    "receiveTime = pd.to_datetime(filteredData[\"RECEIVETIME\"])\n",
    "\n",
    "duration = receiveTime - sendTime\n",
    "duration\n",
    "\n",
    "meanDuration = duration.mean()\n",
    "print(meanDuration)"
   ]
  },
  {
   "cell_type": "code",
   "execution_count": null,
   "metadata": {},
   "outputs": [],
   "source": []
  },
  {
   "cell_type": "code",
   "execution_count": null,
   "metadata": {},
   "outputs": [],
   "source": []
  }
 ],
 "metadata": {
  "kernelspec": {
   "display_name": "Python 3",
   "language": "python",
   "name": "python3"
  },
  "language_info": {
   "codemirror_mode": {
    "name": "ipython",
    "version": 3
   },
   "file_extension": ".py",
   "mimetype": "text/x-python",
   "name": "python",
   "nbconvert_exporter": "python",
   "pygments_lexer": "ipython3",
   "version": "3.7.4"
  }
 },
 "nbformat": 4,
 "nbformat_minor": 4
}
