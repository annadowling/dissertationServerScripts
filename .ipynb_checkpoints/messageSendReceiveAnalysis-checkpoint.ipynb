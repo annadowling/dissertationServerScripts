{
 "cells": [
  {
   "cell_type": "code",
   "execution_count": 171,
   "metadata": {},
   "outputs": [],
   "source": [
    "import numpy as np\n",
    "import pandas as pd\n",
    "import matplotlib.pyplot as plt\n",
    "%matplotlib inline\n",
    "from IPython.display import display, HTML\n",
    "\n",
    "#instatiate variables\n",
    "messageVolume = 100\n",
    "garbageCollector = \"EPSILON\"\n",
    "isMultiThreaded = 0\n",
    "jeroRequestType = \"JEROMQ\"\n",
    "jzmqRequestType = \"JZMQ\"\n",
    "springAMQPRequestType = \"SPRING AMQP\"\n",
    "rabbitClientRequestType = \"RABBITMQ JAVA CLIENT\"\n",
    "bytesize = 10000\n",
    "\n",
    "#load in profiling test results to dataframe\n",
    "profiledData = pd.read_csv('profiling_test_results.csv', sep='\\t')"
   ]
  },
  {
   "cell_type": "code",
   "execution_count": 172,
   "metadata": {},
   "outputs": [
    {
     "name": "stdout",
     "output_type": "stream",
     "text": [
      "0 days 00:00:00.038410\n",
      "0 days 00:00:00.110181\n",
      "0 days 00:00:00.195970\n",
      "0 days 00:00:00.109420\n"
     ]
    }
   ],
   "source": [
    "meanDurationDict = {}\n",
    "for requestType in [jeroRequestType, jzmqRequestType, springAMQPRequestType, rabbitClientRequestType]:\n",
    "    # filter for library results with variables specified.\n",
    "    filteredData = profiledData.query('REQUESTTYPE == @requestType and GARBAGECOLLECTOR == @garbageCollector and ISMULTITHREADED == @isMultiThreaded and MESSAGEVOLUME == @messageVolume and MESSAGESIZE == @bytesize') \n",
    "    finalFilteredData = filteredData[filteredData[\"RECEIVETIME\"] != '\\\\N']\n",
    "\n",
    "    # convert send and receive times to datetime format\n",
    "    sendTime = pd.to_datetime(finalFilteredData[\"SENDTIME\"])\n",
    "    receiveTime = pd.to_datetime(finalFilteredData[\"RECEIVETIME\"])\n",
    "\n",
    "    # Get difference between send and receive times\n",
    "    duration = receiveTime - sendTime\n",
    "\n",
    "    # get mean time between send and receieve for library\n",
    "    meanDuration = duration.mean()\n",
    "    print(meanDuration)\n",
    "    \n",
    "    meanDurationDict.update({requestType : meanDuration})"
   ]
  },
  {
   "cell_type": "code",
   "execution_count": 173,
   "metadata": {},
   "outputs": [
    {
     "data": {
      "text/html": [
       "<table border=\"1\" class=\"dataframe\">\n",
       "  <thead>\n",
       "    <tr style=\"text-align: right;\">\n",
       "      <th></th>\n",
       "      <th>REQUEST TYPE</th>\n",
       "      <th>GARBAGE COLLECTOR</th>\n",
       "      <th>MULTITHREADED?</th>\n",
       "      <th>MESSAGE VOLUME</th>\n",
       "      <th>MESSAGE SIZE(bytes)</th>\n",
       "      <th>MEAN SEND/RECEIVE DURATION</th>\n",
       "    </tr>\n",
       "  </thead>\n",
       "  <tbody>\n",
       "    <tr>\n",
       "      <th>0</th>\n",
       "      <td>JZMQ</td>\n",
       "      <td>EPSILON</td>\n",
       "      <td>0</td>\n",
       "      <td>100</td>\n",
       "      <td>1000</td>\n",
       "      <td>00:00:00.110181</td>\n",
       "    </tr>\n",
       "    <tr>\n",
       "      <th>1</th>\n",
       "      <td>JEROMQ</td>\n",
       "      <td>EPSILON</td>\n",
       "      <td>0</td>\n",
       "      <td>100</td>\n",
       "      <td>1000</td>\n",
       "      <td>00:00:00.038410</td>\n",
       "    </tr>\n",
       "    <tr>\n",
       "      <th>2</th>\n",
       "      <td>RABBITMQ JAVA CLIENT</td>\n",
       "      <td>EPSILON</td>\n",
       "      <td>0</td>\n",
       "      <td>100</td>\n",
       "      <td>1000</td>\n",
       "      <td>00:00:00.109420</td>\n",
       "    </tr>\n",
       "    <tr>\n",
       "      <th>3</th>\n",
       "      <td>SPRING AMQP</td>\n",
       "      <td>EPSILON</td>\n",
       "      <td>0</td>\n",
       "      <td>100</td>\n",
       "      <td>1000</td>\n",
       "      <td>00:00:00.195970</td>\n",
       "    </tr>\n",
       "  </tbody>\n",
       "</table>"
      ],
      "text/plain": [
       "<IPython.core.display.HTML object>"
      ]
     },
     "metadata": {},
     "output_type": "display_data"
    }
   ],
   "source": [
    "# create new dataframe with all library mean time results for variables specified.\n",
    "meanTimeData = [[jzmqRequestType, garbageCollector, isMultiThreaded, messageVolume, messageSize, meanDurationDict.get(jzmqRequestType)],\n",
    "                [jeroRequestType, garbageCollector, isMultiThreaded, messageVolume, messageSize, meanDurationDict.get(jeroRequestType)], \n",
    "                [rabbitClientRequestType, garbageCollector, isMultiThreaded, messageVolume, messageSize, meanDurationDict.get(rabbitClientRequestType)], \n",
    "                [springAMQPRequestType, garbageCollector, isMultiThreaded, messageVolume, messageSize, meanDurationDict.get(springAMQPRequestType)] \n",
    "               ]\n",
    "# display in table\n",
    "meanDataframe = pd.DataFrame(meanTimeData, columns=[\"REQUEST TYPE\", \"GARBAGE COLLECTOR\", \"MULTITHREADED?\", \"MESSAGE VOLUME\", \"MESSAGE SIZE(bytes)\", \"MEAN SEND/RECEIVE DURATION\"])\n",
    "display(HTML(meanDataframe.to_html()))"
   ]
  },
  {
   "cell_type": "code",
   "execution_count": 174,
   "metadata": {},
   "outputs": [
    {
     "data": {
      "image/png": "[encoded data removed]",
      "text/plain": [
       "<Figure size 576x576 with 1 Axes>"
      ]
     },
     "metadata": {
      "needs_background": "light"
     },
     "output_type": "display_data"
    }
   ],
   "source": [
    "plt.style.use('seaborn-bright')\n",
    "\n",
    "medianprops = {'linewidth': 6}\n",
    "bplot = meanDataframe.boxplot(column='MEAN SEND/RECEIVE DURATION', by='REQUEST TYPE', \n",
    "                      widths = 0.7, figsize=(8,8), fontsize=10, medianprops=medianprops)\n",
    "\n",
    "plt.xlabel('Library')\n",
    "plt.ylabel('Average Time')\n",
    "plt.title('Average Message Send to Receive Times By Library')\n",
    "        \n",
    "plt.show()"
   ]
  }
 ],
 "metadata": {
  "kernelspec": {
   "display_name": "Python 3",
   "language": "python",
   "name": "python3"
  },
  "language_info": {
   "codemirror_mode": {
    "name": "ipython",
    "version": 3
   },
   "file_extension": ".py",
   "mimetype": "text/x-python",
   "name": "python",
   "nbconvert_exporter": "python",
   "pygments_lexer": "ipython3",
   "version": "3.7.4"
  }
 },
 "nbformat": 4,
 "nbformat_minor": 4
}
