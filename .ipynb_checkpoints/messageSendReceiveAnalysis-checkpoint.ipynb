{
 "cells": [
  {
   "cell_type": "code",
   "execution_count": 215,
   "metadata": {},
   "outputs": [],
   "source": [
    "import numpy as np\n",
    "import pandas as pd\n",
    "import matplotlib.pyplot as plt\n",
    "%matplotlib inline\n",
    "from IPython.display import display, HTML\n",
    "\n",
    "messageVolume = 100\n",
    "messageSize = 1000\n",
    "garbageCollector = \"EPSILON\"\n",
    "isMultiThreaded = 0\n",
    "\n",
    "profiledData = pd.read_csv('profiling_test_results.csv', sep='\\t')\n",
    "\n",
    "jeroMQfilteredData = profiledData.query('REQUESTTYPE == \"JEROMQ\" and GARBAGECOLLECTOR == @garbageCollector and ISMULTITHREADED == @isMultiThreaded and MESSAGESIZE == 10000 and MESSAGEVOLUME == 100')\n",
    "jeroMQfilteredData = jeroMQfilteredData[jeroMQfilteredData[\"RECEIVETIME\"] != '\\\\N']"
   ]
  },
  {
   "cell_type": "code",
   "execution_count": 216,
   "metadata": {},
   "outputs": [
    {
     "name": "stdout",
     "output_type": "stream",
     "text": [
      "0 days 00:00:00.038410\n"
     ]
    }
   ],
   "source": [
    "jeroSendTime = pd.to_datetime(jeroMQfilteredData[\"SENDTIME\"])\n",
    "jeroReceiveTime = pd.to_datetime(jeroMQfilteredData[\"RECEIVETIME\"])\n",
    "\n",
    "jero_mean_df = jeroMQfilteredData.copy()\n",
    "jeroDuration = jeroReceiveTime - jeroSendTime\n",
    "jeroMeanDuration = jeroDuration.mean()\n",
    "print(jeroMeanDuration)\n",
    "\n",
    "jero_mean_df['sendReceiveDuration'] = jeroDuration"
   ]
  },
  {
   "cell_type": "code",
   "execution_count": 217,
   "metadata": {},
   "outputs": [],
   "source": [
    "springAMQPfilteredData = profiledData.query('REQUESTTYPE == \"SPRING AMQP\" and GARBAGECOLLECTOR == @garbageCollector and ISMULTITHREADED == @isMultiThreaded and MESSAGESIZE == 10000 and MESSAGEVOLUME == 100')\n",
    "springAMQPfilteredData = springAMQPfilteredData[springAMQPfilteredData[\"RECEIVETIME\"] != '\\\\N']"
   ]
  },
  {
   "cell_type": "code",
   "execution_count": 218,
   "metadata": {},
   "outputs": [
    {
     "name": "stdout",
     "output_type": "stream",
     "text": [
      "0 days 00:00:00.195970\n"
     ]
    }
   ],
   "source": [
    "springSendTime = pd.to_datetime(springAMQPfilteredData[\"SENDTIME\"])\n",
    "springReceiveTime = pd.to_datetime(springAMQPfilteredData[\"RECEIVETIME\"])\n",
    "\n",
    "spring_mean_df = springAMQPfilteredData.copy()\n",
    "springDuration = springReceiveTime - springSendTime\n",
    "springMeanDuration = springDuration.mean()\n",
    "print(springMeanDuration)\n",
    "\n",
    "spring_mean_df['sendReceiveDuration'] = springDuration"
   ]
  },
  {
   "cell_type": "code",
   "execution_count": 219,
   "metadata": {},
   "outputs": [],
   "source": [
    "raabbitClientFilteredData = profiledData.query('REQUESTTYPE == \"RABBITMQ JAVA CLIENT\" and GARBAGECOLLECTOR == @garbageCollector and ISMULTITHREADED == @isMultiThreaded and MESSAGESIZE == 10000 and MESSAGEVOLUME == 100')\n",
    "raabbitClientFilteredData = raabbitClientFilteredData[raabbitClientFilteredData[\"RECEIVETIME\"] != '\\\\N']"
   ]
  },
  {
   "cell_type": "code",
   "execution_count": 220,
   "metadata": {},
   "outputs": [
    {
     "name": "stdout",
     "output_type": "stream",
     "text": [
      "0 days 00:00:00.109420\n"
     ]
    }
   ],
   "source": [
    "rcSendTime = pd.to_datetime(raabbitClientFilteredData[\"SENDTIME\"])\n",
    "rcReceiveTime = pd.to_datetime(raabbitClientFilteredData[\"RECEIVETIME\"])\n",
    "\n",
    "rc_mean_df = raabbitClientFilteredData.copy()\n",
    "rcDuration = rcReceiveTime - rcSendTime\n",
    "rcMeanDuration = rcDuration.mean()\n",
    "print(rcMeanDuration)\n",
    "\n",
    "rc_mean_df['sendReceiveDuration'] = rcDuration"
   ]
  },
  {
   "cell_type": "code",
   "execution_count": 221,
   "metadata": {},
   "outputs": [],
   "source": [
    "jzmqfilteredData = profiledData.query('REQUESTTYPE == \"JZMQ\" and GARBAGECOLLECTOR == @garbageCollector and ISMULTITHREADED == @isMultiThreaded and MESSAGESIZE == 10000 and MESSAGEVOLUME == 100')\n",
    "jzmqfilteredData = jzmqfilteredData[jzmqfilteredData[\"RECEIVETIME\"] != '\\\\N']"
   ]
  },
  {
   "cell_type": "code",
   "execution_count": 222,
   "metadata": {},
   "outputs": [],
   "source": [
    "jzmqSendTime = pd.to_datetime(jzmqfilteredData[\"SENDTIME\"])\n",
    "jzmqReceiveTime = pd.to_datetime(jzmqfilteredData[\"RECEIVETIME\"])\n",
    "\n",
    "jzmq_mean_df = jzmqfilteredData.copy()\n",
    "jzmqDuration = jzmqReceiveTime - jzmqSendTime\n",
    "jzmqMeanDuration = jzmqDuration.mean()\n",
    "\n",
    "jzmq_mean_df['sendReceiveDuration'] = jzmqDuration"
   ]
  },
  {
   "cell_type": "code",
   "execution_count": 223,
   "metadata": {},
   "outputs": [
    {
     "data": {
      "text/html": [
       "<table border=\"1\" class=\"dataframe\">\n",
       "  <thead>\n",
       "    <tr style=\"text-align: right;\">\n",
       "      <th></th>\n",
       "      <th>REQUEST TYPE</th>\n",
       "      <th>GARBAGE COLLECTOR</th>\n",
       "      <th>MULTITHREADED?</th>\n",
       "      <th>MESSAGE VOLUME</th>\n",
       "      <th>MESSAGE SIZE(bytes)</th>\n",
       "      <th>MEAN SEND/RECEIVE DURATION</th>\n",
       "    </tr>\n",
       "  </thead>\n",
       "  <tbody>\n",
       "    <tr>\n",
       "      <th>0</th>\n",
       "      <td>JZMQ</td>\n",
       "      <td>EPSILON</td>\n",
       "      <td>0</td>\n",
       "      <td>100</td>\n",
       "      <td>1000</td>\n",
       "      <td>00:00:00.110181</td>\n",
       "    </tr>\n",
       "    <tr>\n",
       "      <th>1</th>\n",
       "      <td>JEROMQ</td>\n",
       "      <td>EPSILON</td>\n",
       "      <td>0</td>\n",
       "      <td>100</td>\n",
       "      <td>1000</td>\n",
       "      <td>00:00:00.038410</td>\n",
       "    </tr>\n",
       "    <tr>\n",
       "      <th>2</th>\n",
       "      <td>RABBITMQ JAVA CLIENT</td>\n",
       "      <td>EPSILON</td>\n",
       "      <td>0</td>\n",
       "      <td>100</td>\n",
       "      <td>1000</td>\n",
       "      <td>00:00:00.109420</td>\n",
       "    </tr>\n",
       "    <tr>\n",
       "      <th>3</th>\n",
       "      <td>SPRING AMQP</td>\n",
       "      <td>EPSILON</td>\n",
       "      <td>0</td>\n",
       "      <td>100</td>\n",
       "      <td>1000</td>\n",
       "      <td>00:00:00.195970</td>\n",
       "    </tr>\n",
       "  </tbody>\n",
       "</table>"
      ],
      "text/plain": [
       "<IPython.core.display.HTML object>"
      ]
     },
     "metadata": {},
     "output_type": "display_data"
    }
   ],
   "source": [
    "meanTimeData = [[\"JZMQ\", garbageCollector, isMultiThreaded, messageVolume, messageSize, jzmqMeanDuration],\n",
    "                [\"JEROMQ\", garbageCollector, isMultiThreaded, messageVolume, messageSize, jeroMeanDuration], \n",
    "                [\"RABBITMQ JAVA CLIENT\", garbageCollector, isMultiThreaded, messageVolume, messageSize, rcMeanDuration], \n",
    "                [\"SPRING AMQP\", garbageCollector, isMultiThreaded, messageVolume, messageSize, springMeanDuration] \n",
    "               ]\n",
    "meanDataframe = pd.DataFrame(meanTimeData, columns=[\"REQUEST TYPE\", \"GARBAGE COLLECTOR\", \"MULTITHREADED?\", \"MESSAGE VOLUME\", \"MESSAGE SIZE(bytes)\", \"MEAN SEND/RECEIVE DURATION\"])\n",
    "display(HTML(meanDataframe.to_html()))"
   ]
  },
  {
   "cell_type": "code",
   "execution_count": 291,
   "metadata": {},
   "outputs": [
    {
     "data": {
      "image/png": "[encoded data removed]",
      "text/plain": [
       "<Figure size 640x640 with 1 Axes>"
      ]
     },
     "metadata": {},
     "output_type": "display_data"
    }
   ],
   "source": [
    "plt.style.use('seaborn-bright')\n",
    "\n",
    "medianprops = {'linewidth': 6}\n",
    "bplot = meanDataframe.boxplot(column='MEAN SEND/RECEIVE DURATION', by='REQUEST TYPE', \n",
    "                      widths = 0.7, figsize=(8,8), fontsize=10, medianprops=medianprops)\n",
    "\n",
    "plt.xlabel('Library')\n",
    "plt.ylabel('Average Time')\n",
    "plt.title('Average Message Send to Receive Times By Library')\n",
    "        \n",
    "plt.show()"
   ]
  }
 ],
 "metadata": {
  "kernelspec": {
   "display_name": "Python 3",
   "language": "python",
   "name": "python3"
  },
  "language_info": {
   "codemirror_mode": {
    "name": "ipython",
    "version": 3
   },
   "file_extension": ".py",
   "mimetype": "text/x-python",
   "name": "python",
   "nbconvert_exporter": "python",
   "pygments_lexer": "ipython3",
   "version": "3.7.4"
  }
 },
 "nbformat": 4,
 "nbformat_minor": 4
}
